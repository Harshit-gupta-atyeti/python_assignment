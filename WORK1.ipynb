{
 "cells": [
  {
   "cell_type": "code",
   "execution_count": 9,
   "id": "4c26f50f-9d52-4168-98e8-1e2ddda3b26b",
   "metadata": {},
   "outputs": [],
   "source": [
    "def calculate_total(items, **discount_details):\n",
    "    total_cost = 0\n",
    "\n",
    "    for name, unit_price, quantity in items:\n",
    "        item_total = unit_price * quantity\n",
    "        total_cost += item_total\n",
    "        print(f\"{name}: ${unit_price}*{quantity} = ${item_total}\")\n",
    "    print(f\"Subtotal: ${total_cost}\")\n",
    "    \n",
    "    for key, value in discount_details.items():\n",
    "        if key == \"discount\":\n",
    "            print(f\"Applied Discount: {value}%\")\n",
    "            total_cost -= total_cost * (value / 100)\n",
    "\n",
    "        elif key == \"promo_code\":\n",
    "            print(f\"Promo Code Applied Amount: ${value}\")\n",
    "            total_cost += value\n",
    "\n",
    "        elif key == \"delivery_charge\":\n",
    "            if total_cost <= 500:\n",
    "                total_cost += value\n",
    "                print(f\"Delivery Charge Added: ${value}\")\n",
    "                print(f\"Total with Delivery: ${total_cost}\")\n",
    "            else:\n",
    "                print(\"You qualify for free delivery.\")\n",
    "                print(f\"Final Total: ${total_cost}\")"
   ]
  },
  {
   "cell_type": "code",
   "execution_count": 11,
   "id": "3888dbd7-4711-42b8-b2dd-ca3e0db20d84",
   "metadata": {},
   "outputs": [
    {
     "name": "stdout",
     "output_type": "stream",
     "text": [
      "Laptop: $1000*2 = $2000\n",
      "Mouse: $20*2 = $40\n",
      "Keyboard: $50*1 = $50\n",
      "Subtotal: $2090\n",
      "Applied Discount: 10%\n",
      "Promo Code Applied Amount: $-10\n",
      "You qualify for free delivery.\n",
      "Final Total: $1871.0\n"
     ]
    }
   ],
   "source": [
    "items_list = [(\"Laptop\", 1000, 2), (\"Mouse\", 20, 2), (\"Keyboard\", 50, 1)]\n",
    "calculate_total(items_list, discount=10, promo_code=-10, delivery_charge=50)"
   ]
  },
  {
   "cell_type": "code",
   "execution_count": null,
   "id": "9499462c-a94e-4655-808b-a0a3edf57fdb",
   "metadata": {},
   "outputs": [],
   "source": []
  }
 ],
 "metadata": {
  "kernelspec": {
   "display_name": "Python 3 (ipykernel)",
   "language": "python",
   "name": "python3"
  },
  "language_info": {
   "codemirror_mode": {
    "name": "ipython",
    "version": 3
   },
   "file_extension": ".py",
   "mimetype": "text/x-python",
   "name": "python",
   "nbconvert_exporter": "python",
   "pygments_lexer": "ipython3",
   "version": "3.12.4"
  }
 },
 "nbformat": 4,
 "nbformat_minor": 5
}
